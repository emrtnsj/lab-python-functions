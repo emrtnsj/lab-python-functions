{
 "cells": [
  {
   "cell_type": "markdown",
   "id": "25d7736c-ba17-4aff-b6bb-66eba20fbf4e",
   "metadata": {},
   "source": [
    "# Lab | Functions"
   ]
  },
  {
   "cell_type": "markdown",
   "id": "0c581062-8967-4d93-b06e-62833222f930",
   "metadata": {
    "tags": []
   },
   "source": [
    "## Exercise: Managing Customer Orders with Functions\n",
    "\n",
    "In the previous exercise, you improved the code for managing customer orders by using loops and flow control. Now, let's take it a step further and refactor the code by introducing functions.\n",
    "\n",
    "Follow the steps below to complete the exercise:\n",
    "\n",
    "1. Define a function named `initialize_inventory` that takes `products` as a parameter. Inside the function, implement the code for initializing the inventory dictionary using a loop and user input.\n",
    "\n",
    "2. Define a function named `get_customer_orders` that takes no parameters. Inside the function, implement the code for prompting the user to enter the product names using a loop. The function should return the `customer_orders` set.\n",
    "\n",
    "3. Define a function named `update_inventory` that takes `customer_orders` and `inventory` as parameters. Inside the function, implement the code for updating the inventory dictionary based on the customer orders.\n",
    "\n",
    "4. Define a function named `calculate_order_statistics` that takes `customer_orders` and `products` as parameters. Inside the function, implement the code for calculating the order statistics (total products ordered, and percentage of unique products ordered). The function should return these values.\n",
    "\n",
    "5. Define a function named `print_order_statistics` that takes `order_statistics` as a parameter. Inside the function, implement the code for printing the order statistics.\n",
    "\n",
    "6. Define a function named `print_updated_inventory` that takes `inventory` as a parameter. Inside the function, implement the code for printing the updated inventory.\n",
    "\n",
    "7. Call the functions in the appropriate sequence to execute the program and manage customer orders.\n",
    "\n",
    "Hints for functions:\n",
    "\n",
    "- Consider the input parameters required for each function and their return values.\n",
    "- Utilize function parameters and return values to transfer data between functions.\n",
    "- Test your functions individually to ensure they work correctly.\n",
    "\n",
    "\n"
   ]
  },
  {
   "cell_type": "code",
   "execution_count": null,
   "id": "733a376c",
   "metadata": {},
   "outputs": [],
   "source": [
    "products = [\"t-shirt\", \"mug\", \"hat\", \"book\", \"keychain\"]\n",
    "def initialize_inventory(products):\n",
    "    \"\"\"Asks the user to fill the quantity of each product\n",
    "    in the inventory, returns the inventory\"\"\"\n",
    "    inventory = {}\n",
    "    for product in products:\n",
    "      quantity = int(input(f\"Enter the quantity of {product}: \")) #x is the quantity\n",
    "      inventory[product] = quantity\n",
    "    return inventory\n",
    "\n",
    "\n",
    "def get_customer_orders():\n",
    "    \"\"\" gets customer order and returns it\n",
    "    \"\"\"\n",
    "    customer_orders = set()\n",
    "    a = True\n",
    "    while a:\n",
    "      print(\"Enter a product you want to order:\")\n",
    "      order = input().strip().lower()  #strip all whitecases and lowering cases to be sure the input matches\n",
    "      if order in products:\n",
    "        customer_orders.add(order)\n",
    "      else:\n",
    "        print(f\"Product not found\")\n",
    "      continuar=input(\"Another product?. yes/no: \").strip().lower()\n",
    "      if continuar == \"no\":\n",
    "          a = False\n",
    "      elif continuar == \"yes\":\n",
    "          a = True\n",
    "    return customer_orders\n",
    "\n",
    "\n",
    "def update_inventory(customer_orders,inventory):\n",
    "    \"\"\"updates the inventory subtracting customer orders from inventory\n",
    "    \"\"\"\n",
    "    for product in customer_orders:\n",
    "      inventory[product] -= 1\n",
    "    \n",
    "\n",
    "\n",
    "def calculate_order_statistics (customer_orders,products):\n",
    "    \"\"\"Calculates the order statistics based on the customer orders and available products.\"\"\"\n",
    "    total_or = 0  #total products ordered initiated to 0\n",
    "    for orde in customer_orders:\n",
    "        if orde in inventory: #we need to check if the quantatity ordered is available, if the user tries to input a bigger value than the available in inventory we equal the ordered to the max available\n",
    "          max_ord= min(inventory[orde], int(input(f\"Enter the quantity of {orde} you want to order: \")))\n",
    "          print(f\"{orde} ordered: {max_ord}\")\n",
    "          total_or += max_ord\n",
    "    unique_products_ord= len(set(customer_orders))\n",
    "    perc_ord_uni = (total_or / len(products)) * 100  #percentage ordered\n",
    "    return total_or , perc_ord_uni\n",
    "\n",
    "\n",
    "def print_order_statistics(order_statistics):\n",
    "    total_orde, percentage_uniq = order_statistics  #giving the infunction variables the values of the tuple\n",
    "    print(\"Order Statistics:\")\n",
    "    print(f\"Total products ordered: {total_orde}\")\n",
    "    print(f\"Percentage of unique products ordered: {percentage_uniq:.2f}%\") \n",
    "\n",
    "\n",
    "def  print_updated_inventory(inventory):\n",
    "    print(f\"Updated inventory\")\n",
    "    for product, x in inventory.items():\n",
    "        print(f\"{product} - {x}\")"
   ]
  },
  {
   "cell_type": "code",
   "execution_count": null,
   "id": "c8d97ef0",
   "metadata": {},
   "outputs": [],
   "source": [
    "inventory_ct = initialize_inventory(products)\n",
    "customer_orders=get_customer_orders()\n",
    "update_inventory(customer_orders,inventory_ct)\n",
    "order_statistics = calculate_order_statistics(customer_orders,inventory_ct)\n",
    "print_order_statistics(order_statistics)\n",
    "print_updated_inventory(inventory_ct)"
   ]
  }
 ],
 "metadata": {
  "kernelspec": {
   "display_name": "Python 3 (ipykernel)",
   "language": "python",
   "name": "python3"
  },
  "language_info": {
   "codemirror_mode": {
    "name": "ipython",
    "version": 3
   },
   "file_extension": ".py",
   "mimetype": "text/x-python",
   "name": "python",
   "nbconvert_exporter": "python",
   "pygments_lexer": "ipython3",
   "version": "3.11.7"
  }
 },
 "nbformat": 4,
 "nbformat_minor": 5
}
